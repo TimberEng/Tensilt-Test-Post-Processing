{
 "cells": [
  {
   "cell_type": "code",
   "execution_count": 10,
   "id": "88e538b4-e4e2-40bb-b6c6-130797472f20",
   "metadata": {},
   "outputs": [],
   "source": [
    "import pandas as pd\n",
    "import numpy as np\n",
    "import matplotlib.pyplot as plt\n",
    "\n",
    "# Constants\n",
    "Thickness = 0.006035  # m (6.035mm)\n",
    "Width = 0.02  # m (20 mm)\n",
    "area = Thickness * Width  # Calculate the area of the specimen\n",
    "\n",
    "# Load tensile test data\n",
    "df = pd.read_csv('Zy1.csv', delimiter=';', header=[0, 1])"
   ]
  },
  {
   "cell_type": "code",
   "execution_count": 11,
   "id": "fbc41f83-88cb-439a-b379-640c6525f30c",
   "metadata": {},
   "outputs": [
    {
     "data": {
      "text/html": [
       "<div>\n",
       "<style scoped>\n",
       "    .dataframe tbody tr th:only-of-type {\n",
       "        vertical-align: middle;\n",
       "    }\n",
       "\n",
       "    .dataframe tbody tr th {\n",
       "        vertical-align: top;\n",
       "    }\n",
       "\n",
       "    .dataframe thead tr th {\n",
       "        text-align: left;\n",
       "    }\n",
       "</style>\n",
       "<table border=\"1\" class=\"dataframe\">\n",
       "  <thead>\n",
       "    <tr>\n",
       "      <th></th>\n",
       "      <th>Time</th>\n",
       "      <th>Crosshead separation</th>\n",
       "      <th>Load</th>\n",
       "      <th>Extensometer elongation</th>\n",
       "    </tr>\n",
       "    <tr>\n",
       "      <th></th>\n",
       "      <th>(sec)</th>\n",
       "      <th>(mm)</th>\n",
       "      <th>(kN)</th>\n",
       "      <th>(%)</th>\n",
       "    </tr>\n",
       "  </thead>\n",
       "  <tbody>\n",
       "    <tr>\n",
       "      <th>0</th>\n",
       "      <td>0</td>\n",
       "      <td>-0,00004</td>\n",
       "      <td>0,26954</td>\n",
       "      <td>-0,06349</td>\n",
       "    </tr>\n",
       "    <tr>\n",
       "      <th>1</th>\n",
       "      <td>0,1</td>\n",
       "      <td>0,00136</td>\n",
       "      <td>0,27102</td>\n",
       "      <td>-0,06347</td>\n",
       "    </tr>\n",
       "    <tr>\n",
       "      <th>2</th>\n",
       "      <td>0,2</td>\n",
       "      <td>0,00328</td>\n",
       "      <td>0,27345</td>\n",
       "      <td>-0,06345</td>\n",
       "    </tr>\n",
       "    <tr>\n",
       "      <th>3</th>\n",
       "      <td>0,3</td>\n",
       "      <td>0,00592</td>\n",
       "      <td>0,28039</td>\n",
       "      <td>-0,06342</td>\n",
       "    </tr>\n",
       "    <tr>\n",
       "      <th>4</th>\n",
       "      <td>0,4</td>\n",
       "      <td>0,00936</td>\n",
       "      <td>0,30209</td>\n",
       "      <td>-0,06336</td>\n",
       "    </tr>\n",
       "    <tr>\n",
       "      <th>...</th>\n",
       "      <td>...</td>\n",
       "      <td>...</td>\n",
       "      <td>...</td>\n",
       "      <td>...</td>\n",
       "    </tr>\n",
       "    <tr>\n",
       "      <th>11775</th>\n",
       "      <td>1165,04212</td>\n",
       "      <td>26,25784</td>\n",
       "      <td>37,34536</td>\n",
       "      <td>NaN</td>\n",
       "    </tr>\n",
       "    <tr>\n",
       "      <th>11776</th>\n",
       "      <td>1165,04413</td>\n",
       "      <td>26,25796</td>\n",
       "      <td>34,73364</td>\n",
       "      <td>NaN</td>\n",
       "    </tr>\n",
       "    <tr>\n",
       "      <th>11777</th>\n",
       "      <td>1165,046</td>\n",
       "      <td>26,25824</td>\n",
       "      <td>32,05628</td>\n",
       "      <td>NaN</td>\n",
       "    </tr>\n",
       "    <tr>\n",
       "      <th>11778</th>\n",
       "      <td>1165,04812</td>\n",
       "      <td>26,25836</td>\n",
       "      <td>29,37563</td>\n",
       "      <td>NaN</td>\n",
       "    </tr>\n",
       "    <tr>\n",
       "      <th>11779</th>\n",
       "      <td>1165,05</td>\n",
       "      <td>26,25856</td>\n",
       "      <td>26,70422</td>\n",
       "      <td>NaN</td>\n",
       "    </tr>\n",
       "  </tbody>\n",
       "</table>\n",
       "<p>11780 rows × 4 columns</p>\n",
       "</div>"
      ],
      "text/plain": [
       "             Time Crosshead separation      Load Extensometer elongation\n",
       "            (sec)                 (mm)      (kN)                     (%)\n",
       "0               0             -0,00004   0,26954                -0,06349\n",
       "1             0,1              0,00136   0,27102                -0,06347\n",
       "2             0,2              0,00328   0,27345                -0,06345\n",
       "3             0,3              0,00592   0,28039                -0,06342\n",
       "4             0,4              0,00936   0,30209                -0,06336\n",
       "...           ...                  ...       ...                     ...\n",
       "11775  1165,04212             26,25784  37,34536                     NaN\n",
       "11776  1165,04413             26,25796  34,73364                     NaN\n",
       "11777    1165,046             26,25824  32,05628                     NaN\n",
       "11778  1165,04812             26,25836  29,37563                     NaN\n",
       "11779     1165,05             26,25856  26,70422                     NaN\n",
       "\n",
       "[11780 rows x 4 columns]"
      ]
     },
     "execution_count": 11,
     "metadata": {},
     "output_type": "execute_result"
    }
   ],
   "source": [
    "df"
   ]
  },
  {
   "cell_type": "code",
   "execution_count": 12,
   "id": "9f940fb8-bb10-4810-ba85-2995d78db3db",
   "metadata": {},
   "outputs": [],
   "source": [
    "# Merge headers and clean column names\n",
    "df.columns = [f\"{col[0]} {col[1]}\" for col in df.columns]\n",
    "df.columns = df.columns.str.strip()\n",
    "df = df.apply(lambda x: x.astype(str).str.replace(',', '.')).astype(float)"
   ]
  },
  {
   "cell_type": "code",
   "execution_count": 13,
   "id": "88c3a370-1fc2-42cc-8812-92fa2bda2833",
   "metadata": {},
   "outputs": [
    {
     "data": {
      "text/html": [
       "<div>\n",
       "<style scoped>\n",
       "    .dataframe tbody tr th:only-of-type {\n",
       "        vertical-align: middle;\n",
       "    }\n",
       "\n",
       "    .dataframe tbody tr th {\n",
       "        vertical-align: top;\n",
       "    }\n",
       "\n",
       "    .dataframe thead th {\n",
       "        text-align: right;\n",
       "    }\n",
       "</style>\n",
       "<table border=\"1\" class=\"dataframe\">\n",
       "  <thead>\n",
       "    <tr style=\"text-align: right;\">\n",
       "      <th></th>\n",
       "      <th>Time (sec)</th>\n",
       "      <th>Crosshead separation (mm)</th>\n",
       "      <th>Load (kN)</th>\n",
       "      <th>Extensometer elongation (%)</th>\n",
       "    </tr>\n",
       "  </thead>\n",
       "  <tbody>\n",
       "    <tr>\n",
       "      <th>0</th>\n",
       "      <td>0.00000</td>\n",
       "      <td>-0.00004</td>\n",
       "      <td>0.26954</td>\n",
       "      <td>-0.06349</td>\n",
       "    </tr>\n",
       "    <tr>\n",
       "      <th>1</th>\n",
       "      <td>0.10000</td>\n",
       "      <td>0.00136</td>\n",
       "      <td>0.27102</td>\n",
       "      <td>-0.06347</td>\n",
       "    </tr>\n",
       "    <tr>\n",
       "      <th>2</th>\n",
       "      <td>0.20000</td>\n",
       "      <td>0.00328</td>\n",
       "      <td>0.27345</td>\n",
       "      <td>-0.06345</td>\n",
       "    </tr>\n",
       "    <tr>\n",
       "      <th>3</th>\n",
       "      <td>0.30000</td>\n",
       "      <td>0.00592</td>\n",
       "      <td>0.28039</td>\n",
       "      <td>-0.06342</td>\n",
       "    </tr>\n",
       "    <tr>\n",
       "      <th>4</th>\n",
       "      <td>0.40000</td>\n",
       "      <td>0.00936</td>\n",
       "      <td>0.30209</td>\n",
       "      <td>-0.06336</td>\n",
       "    </tr>\n",
       "    <tr>\n",
       "      <th>...</th>\n",
       "      <td>...</td>\n",
       "      <td>...</td>\n",
       "      <td>...</td>\n",
       "      <td>...</td>\n",
       "    </tr>\n",
       "    <tr>\n",
       "      <th>11775</th>\n",
       "      <td>1165.04212</td>\n",
       "      <td>26.25784</td>\n",
       "      <td>37.34536</td>\n",
       "      <td>NaN</td>\n",
       "    </tr>\n",
       "    <tr>\n",
       "      <th>11776</th>\n",
       "      <td>1165.04413</td>\n",
       "      <td>26.25796</td>\n",
       "      <td>34.73364</td>\n",
       "      <td>NaN</td>\n",
       "    </tr>\n",
       "    <tr>\n",
       "      <th>11777</th>\n",
       "      <td>1165.04600</td>\n",
       "      <td>26.25824</td>\n",
       "      <td>32.05628</td>\n",
       "      <td>NaN</td>\n",
       "    </tr>\n",
       "    <tr>\n",
       "      <th>11778</th>\n",
       "      <td>1165.04812</td>\n",
       "      <td>26.25836</td>\n",
       "      <td>29.37563</td>\n",
       "      <td>NaN</td>\n",
       "    </tr>\n",
       "    <tr>\n",
       "      <th>11779</th>\n",
       "      <td>1165.05000</td>\n",
       "      <td>26.25856</td>\n",
       "      <td>26.70422</td>\n",
       "      <td>NaN</td>\n",
       "    </tr>\n",
       "  </tbody>\n",
       "</table>\n",
       "<p>11780 rows × 4 columns</p>\n",
       "</div>"
      ],
      "text/plain": [
       "       Time (sec)  Crosshead separation (mm)  Load (kN)  \\\n",
       "0         0.00000                   -0.00004    0.26954   \n",
       "1         0.10000                    0.00136    0.27102   \n",
       "2         0.20000                    0.00328    0.27345   \n",
       "3         0.30000                    0.00592    0.28039   \n",
       "4         0.40000                    0.00936    0.30209   \n",
       "...           ...                        ...        ...   \n",
       "11775  1165.04212                   26.25784   37.34536   \n",
       "11776  1165.04413                   26.25796   34.73364   \n",
       "11777  1165.04600                   26.25824   32.05628   \n",
       "11778  1165.04812                   26.25836   29.37563   \n",
       "11779  1165.05000                   26.25856   26.70422   \n",
       "\n",
       "       Extensometer elongation (%)  \n",
       "0                         -0.06349  \n",
       "1                         -0.06347  \n",
       "2                         -0.06345  \n",
       "3                         -0.06342  \n",
       "4                         -0.06336  \n",
       "...                            ...  \n",
       "11775                          NaN  \n",
       "11776                          NaN  \n",
       "11777                          NaN  \n",
       "11778                          NaN  \n",
       "11779                          NaN  \n",
       "\n",
       "[11780 rows x 4 columns]"
      ]
     },
     "execution_count": 13,
     "metadata": {},
     "output_type": "execute_result"
    }
   ],
   "source": [
    "df"
   ]
  },
  {
   "cell_type": "code",
   "execution_count": 14,
   "id": "52c66ed7-5ea9-462e-8f16-301a8bcd930a",
   "metadata": {},
   "outputs": [],
   "source": [
    "# Extract relevant columns\n",
    "time = df[\"Time (sec)\"]\n",
    "displacement = df[\"Crosshead separation (mm)\"]\n",
    "force = df[\"Load (kN)\"]\n",
    "elongation = df[\"Extensometer elongation (%)\"]\n",
    "\n",
    "# Calculate stress and strain\n",
    "force = force * 1000  # Convert kN to N\n",
    "stress = (force / area)  # N/m^2 or Pa\n",
    "stress_MPa = stress / (1000 * 1000)  # Convert Pa to MPa\n",
    "strain = elongation  # Keep strain in percentage"
   ]
  },
  {
   "cell_type": "code",
   "execution_count": 15,
   "id": "3f967677-f8e6-4747-82cc-d2209dbcc4e0",
   "metadata": {},
   "outputs": [
    {
     "data": {
      "text/plain": [
       "0          269.54\n",
       "1          271.02\n",
       "2          273.45\n",
       "3          280.39\n",
       "4          302.09\n",
       "           ...   \n",
       "11775    37345.36\n",
       "11776    34733.64\n",
       "11777    32056.28\n",
       "11778    29375.63\n",
       "11779    26704.22\n",
       "Name: Load (kN), Length: 11780, dtype: float64"
      ]
     },
     "execution_count": 15,
     "metadata": {},
     "output_type": "execute_result"
    }
   ],
   "source": [
    "force"
   ]
  },
  {
   "cell_type": "code",
   "execution_count": 16,
   "id": "85670a7d-c59f-425a-b0a9-f36d0f262984",
   "metadata": {},
   "outputs": [
    {
     "data": {
      "text/plain": [
       "0        2.233140e+06\n",
       "1        2.245402e+06\n",
       "2        2.265534e+06\n",
       "3        2.323032e+06\n",
       "4        2.502817e+06\n",
       "             ...     \n",
       "11775    3.094065e+08\n",
       "11776    2.877684e+08\n",
       "11777    2.655864e+08\n",
       "11778    2.433772e+08\n",
       "11779    2.212446e+08\n",
       "Name: Load (kN), Length: 11780, dtype: float64"
      ]
     },
     "execution_count": 16,
     "metadata": {},
     "output_type": "execute_result"
    }
   ],
   "source": [
    "stress"
   ]
  },
  {
   "cell_type": "code",
   "execution_count": 17,
   "id": "70a93336-2748-4b89-aa1d-27705295cf5f",
   "metadata": {},
   "outputs": [],
   "source": [
    "# Remove NaNs from stress and strain\n",
    "valid_indices = ~np.isnan(stress_MPa) & ~np.isnan(strain)  # Mask for valid data\n",
    "stress_MPa = stress_MPa[valid_indices]\n",
    "strain = strain[valid_indices]"
   ]
  },
  {
   "cell_type": "code",
   "execution_count": 18,
   "id": "1f1fc6d3-640a-4bde-899f-3a9b3caa8cf7",
   "metadata": {},
   "outputs": [],
   "source": [
    "# Shift the curve to start at (0, 0)\n",
    "initial_strain = strain.iloc[0]  # First strain value\n",
    "initial_stress = stress_MPa.iloc[0]  # First stress value\n",
    "\n",
    "# Subtract the initial strain and stress values to shift the curve\n",
    "strain_shifted = strain - initial_strain\n",
    "stress_shifted = stress_MPa - initial_stress\n",
    "\n",
    "# Ensure the first point is exactly (0, 0)\n",
    "strain_shifted.iloc[0] = 0\n",
    "stress_shifted.iloc[0] = 0"
   ]
  },
  {
   "cell_type": "code",
   "execution_count": 21,
   "id": "f133822e-968b-4218-9731-19ec2ef5adfa",
   "metadata": {
    "editable": true,
    "slideshow": {
     "slide_type": ""
    },
    "tags": []
   },
   "outputs": [],
   "source": [
    "# Identify elastic region (assume up to 374 MPa is elastic)\n",
    "elastic_region = stress_shifted <= 374\n",
    "\n",
    "# Reset indices to ensure alignment\n",
    "strain_shifted = strain_shifted.reset_index(drop=True)\n",
    "stress_shifted = stress_shifted.reset_index(drop=True)\n",
    "elastic_region = elastic_region.reset_index(drop=True)\n",
    "\n",
    "# Extract elastic region data\n",
    "elastic_strain = strain_shifted[elastic_region]\n",
    "elastic_stress = stress_shifted[elastic_region]\n",
    "\n",
    "# Convert elastic strain to decimal for Young's Modulus calculation ONLY\n",
    "elastic_strain_decimal = elastic_strain / 100  # Convert percentage to decimal"
   ]
  },
  {
   "cell_type": "code",
   "execution_count": 29,
   "id": "94964761-862c-430b-b8db-360780a9f881",
   "metadata": {},
   "outputs": [
    {
     "data": {
      "text/plain": [
       "0      0.000000e+00\n",
       "1      2.000000e-07\n",
       "2      4.000000e-07\n",
       "3      7.000000e-07\n",
       "4      1.300000e-06\n",
       "           ...     \n",
       "427    1.957200e-03\n",
       "428    1.965200e-03\n",
       "429    1.973500e-03\n",
       "430    1.981900e-03\n",
       "431    1.990500e-03\n",
       "Name: Extensometer elongation (%), Length: 432, dtype: float64"
      ]
     },
     "execution_count": 29,
     "metadata": {},
     "output_type": "execute_result"
    }
   ],
   "source": [
    "elastic_strain_decimal"
   ]
  },
  {
   "cell_type": "code",
   "execution_count": 30,
   "id": "afa48e66-1d92-4d64-879d-23b94696cc5c",
   "metadata": {},
   "outputs": [
    {
     "name": "stdout",
     "output_type": "stream",
     "text": [
      "Young's Modulus is: 198155.98791883187 MPa\n",
      "Intercept: 4.6504842266367294 MPa\n"
     ]
    }
   ],
   "source": [
    "# Fit a linear regression to the elastic region to find Young’s Modulus\n",
    "E, intercept = np.polyfit(elastic_strain_decimal, elastic_stress, 1)\n",
    "print(f\"Young's Modulus is: {E} MPa\")\n",
    "E_GPa = E / 1000  # Convert MPa to GPa\n",
    "print(f\"Intercept: {intercept} MPa\")\n",
    "\n",
    "# Calculate 0.2% Offset Yield Strength (strain remains in percentage)\n",
    "offset_strain = strain_shifted + 0.2  # 0.2% offset strain (in percentage)\n",
    "offset_stress = E * (offset_strain / 100) + intercept  # Convert offset strain to decimal for calculation\n",
    "yield_strength = np.interp(0.2, strain_shifted, stress_shifted)  # Yield strength at 0.2% offset"
   ]
  },
  {
   "cell_type": "code",
   "execution_count": 28,
   "id": "d3041626-16c3-4687-b48c-ec6af0bff46a",
   "metadata": {},
   "outputs": [
    {
     "data": {
      "text/plain": [
       "0        0.000000\n",
       "1        0.012262\n",
       "2        0.032394\n",
       "3        0.089892\n",
       "4        0.269677\n",
       "          ...    \n",
       "427    369.945485\n",
       "428    370.825518\n",
       "429    371.670837\n",
       "430    372.543745\n",
       "431    373.380613\n",
       "Name: Load (kN), Length: 432, dtype: float64"
      ]
     },
     "execution_count": 28,
     "metadata": {},
     "output_type": "execute_result"
    }
   ],
   "source": [
    "elastic_stress"
   ]
  },
  {
   "cell_type": "code",
   "execution_count": 27,
   "id": "185d5e04-0956-4dbd-b2f0-6af8624bde15",
   "metadata": {},
   "outputs": [
    {
     "data": {
      "text/plain": [
       "0      0.000000e+00\n",
       "1      2.000000e-07\n",
       "2      4.000000e-07\n",
       "3      7.000000e-07\n",
       "4      1.300000e-06\n",
       "           ...     \n",
       "427    1.957200e-03\n",
       "428    1.965200e-03\n",
       "429    1.973500e-03\n",
       "430    1.981900e-03\n",
       "431    1.990500e-03\n",
       "Name: Extensometer elongation (%), Length: 432, dtype: float64"
      ]
     },
     "execution_count": 27,
     "metadata": {},
     "output_type": "execute_result"
    }
   ],
   "source": [
    "elastic_strain_decimal"
   ]
  },
  {
   "cell_type": "code",
   "execution_count": 17,
   "id": "fc070f1b-f600-49ff-bcc8-de14694a4741",
   "metadata": {},
   "outputs": [
    {
     "data": {
      "text/plain": [
       "0         0.000000\n",
       "1         0.012262\n",
       "2         0.032394\n",
       "3         0.089892\n",
       "4         0.269677\n",
       "           ...    \n",
       "1950    450.001160\n",
       "1951    450.041342\n",
       "1952    450.053190\n",
       "1953    450.055841\n",
       "1954    450.056669\n",
       "Name: Load (kN), Length: 1955, dtype: float64"
      ]
     },
     "execution_count": 17,
     "metadata": {},
     "output_type": "execute_result"
    }
   ],
   "source": [
    "stress_shifted"
   ]
  },
  {
   "cell_type": "code",
   "execution_count": 15,
   "id": "d913e9f8-d4a9-4bb0-acb5-1d86ea09258a",
   "metadata": {},
   "outputs": [
    {
     "data": {
      "text/plain": [
       "np.float64(374.33564320490024)"
      ]
     },
     "execution_count": 15,
     "metadata": {},
     "output_type": "execute_result"
    }
   ],
   "source": [
    "yield_strength"
   ]
  },
  {
   "cell_type": "code",
   "execution_count": 12,
   "id": "0a454d2f-f99c-4912-9812-e4cba169c194",
   "metadata": {},
   "outputs": [
    {
     "name": "stdout",
     "output_type": "stream",
     "text": [
      "Young's Modulus is: 198155.98791883187 MPa\n",
      "Intercept: 4.6504842266367294 MPa\n"
     ]
    },
    {
     "data": {
      "image/png": "[encoded data removed]",
      "text/plain": [
       "<Figure size 1000x600 with 1 Axes>"
      ]
     },
     "metadata": {},
     "output_type": "display_data"
    },
    {
     "name": "stdout",
     "output_type": "stream",
     "text": [
      "Young's Modulus (E): 198.16 GPa\n",
      "Ultimate Tensile Strength (UTS): 450.06 MPa\n",
      "Yield Strength: 374.34 MPa\n"
     ]
    }
   ],
   "source": [
    "# Calculate Ultimate Tensile Strength (UTS)\n",
    "uts = stress_shifted.max()\n",
    "\n",
    "\n",
    "# Convert strain from percentage to decimal for toughness calculation\n",
    "strain_decimal = strain_shifted / 100  # Convert percentage to decimal\n",
    "# Calculate Toughness (area under stress-strain curve)\n",
    "#toughness_mj_per_m3 = np.trapeziod(stress_shifted, strain_decimal)  # MPa is equivalent to MJ/m³ # trapz is depricated\n",
    "\n",
    "# Plot stress-strain curve (strain remains in percentage)\n",
    "plt.figure(figsize=(10, 6))\n",
    "plt.plot(strain_shifted, stress_shifted, label='Stress-Strain Curve', color='blue')\n",
    "#plt.fill_between(strain_shifted, stress_shifted, color='lightblue', alpha=0.5, label=f'Toughness = {toughness_mj_per_m3:.2f} MJ/m³')\n",
    "\n",
    "# Plot the 0.2% offset line\n",
    "plt.plot(offset_strain, offset_stress, linestyle='--', color='orange', label='0.2% Offset Strain Line')\n",
    "\n",
    "# Highlight key points\n",
    "plt.axhline(y=uts, color='red', linestyle='--', label=f'UTS = {uts:.2f} MPa')\n",
    "plt.axhline(y=yield_strength, color='green', linestyle='--', label=f'Yield Strength = {yield_strength:.2f} MPa')\n",
    "\n",
    "plt.xlabel('Strain (%)')\n",
    "plt.ylabel('Stress (MPa)')\n",
    "plt.title('Stress-Strain Curve with Mechanical Properties')\n",
    "plt.legend()\n",
    "plt.grid(True)\n",
    "plt.ylim(0, 500)\n",
    "\n",
    "# Save and show plot\n",
    "plt.savefig(\"Stress_Tensile_Test_Results.png\", dpi=300, bbox_inches='tight')\n",
    "plt.show()\n",
    "\n",
    "# Print results\n",
    "print(f\"Young's Modulus (E): {E_GPa:.2f} GPa\")\n",
    "print(f\"Ultimate Tensile Strength (UTS): {uts:.2f} MPa\")\n",
    "print(f\"Yield Strength: {yield_strength:.2f} MPa\")\n",
    "#print(f\"Toughness: {toughness_mj_per_m3:.2f} MJ/m³\")"
   ]
  },
  {
   "cell_type": "code",
   "execution_count": 14,
   "id": "c13c8c79-a64e-401e-bc9e-32ea012b4509",
   "metadata": {},
   "outputs": [
    {
     "data": {
      "text/plain": [
       "0        400.962460\n",
       "1        401.002091\n",
       "2        401.041722\n",
       "3        401.101169\n",
       "4        401.220063\n",
       "           ...     \n",
       "1950    8263.673167\n",
       "1951    8267.438131\n",
       "1952    8269.102641\n",
       "1953    8269.934896\n",
       "1954    8270.014159\n",
       "Name: Extensometer elongation (%), Length: 1955, dtype: float64"
      ]
     },
     "execution_count": 14,
     "metadata": {},
     "output_type": "execute_result"
    }
   ],
   "source": [
    "offset_stress"
   ]
  },
  {
   "cell_type": "code",
   "execution_count": null,
   "id": "cb0a5e9a-dfb5-4f12-81cb-39c8497a12ac",
   "metadata": {},
   "outputs": [],
   "source": []
  }
 ],
 "metadata": {
  "kernelspec": {
   "display_name": "pfse",
   "language": "python",
   "name": "pfse"
  },
  "language_info": {
   "codemirror_mode": {
    "name": "ipython",
    "version": 3
   },
   "file_extension": ".py",
   "mimetype": "text/x-python",
   "name": "python",
   "nbconvert_exporter": "python",
   "pygments_lexer": "ipython3",
   "version": "3.13.5"
  }
 },
 "nbformat": 4,
 "nbformat_minor": 5
}
