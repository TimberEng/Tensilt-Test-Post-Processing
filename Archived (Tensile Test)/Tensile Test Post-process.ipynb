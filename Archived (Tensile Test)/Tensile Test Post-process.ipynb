{
 "cells": [
  {
   "cell_type": "code",
   "execution_count": 48,
   "id": "5d39e9d8-717a-498d-ab52-fc4ad80504b8",
   "metadata": {},
   "outputs": [],
   "source": [
    "import pandas as pd\n",
    "import numpy as np\n",
    "import matplotlib.pyplot as plt\n",
    "\n",
    "# Constants\n",
    "Thickness = 6.035  # m (6.035mm)\n",
    "Width = 20  # m (20 mm)\n",
    "area = Thickness * Width  # Calculate the area of the specimen\n",
    "\n",
    "# Load tensile test data\n",
    "df = pd.read_csv('TestData.csv', header=[0, 1])\n"
   ]
  },
  {
   "cell_type": "code",
   "execution_count": 49,
   "id": "fce9b6aa-09a0-4431-bb9b-053cb7c3189d",
   "metadata": {},
   "outputs": [],
   "source": [
    "df.columns = [f\"{col[0]} {col[1]}\" for col in df.columns]"
   ]
  },
  {
   "cell_type": "code",
   "execution_count": 50,
   "id": "1d83109d-253b-48d6-aa71-7761c985ddb0",
   "metadata": {},
   "outputs": [],
   "source": [
    "# Extract relevant columns\n",
    "time = df[\"Time (sec)\"]\n",
    "displacement = df[\"Crosshead separation (mm)\"]\n",
    "force = df[\"Load (kN)\"]\n",
    "elongation = df[\"Extensometer elongation (%)\"]\n",
    "strain = elongation/100  # Strain in mm/mm"
   ]
  },
  {
   "cell_type": "code",
   "execution_count": 51,
   "id": "44ca0536-3909-43d1-9c1c-b8d9c793cfd5",
   "metadata": {},
   "outputs": [],
   "source": [
    "# Calculate stress and strain\n",
    "force = force * 1000 # Convert kN to N\n",
    "stress = (force / area)  # N/m^2 or Pa\n",
    "uts = stress.max()\n",
    "elastic_low = 0.1 * uts\n",
    "elastic_up = 0.4 * uts"
   ]
  },
  {
   "cell_type": "code",
   "execution_count": 52,
   "id": "b7b1f20d-a4ee-44a1-88b4-4e4033573b70",
   "metadata": {},
   "outputs": [],
   "source": [
    "stress = (force / area)  # N/m^2 or Pa"
   ]
  },
  {
   "cell_type": "code",
   "execution_count": 53,
   "id": "8005edc9-9e47-46c9-b649-975453e7a08f",
   "metadata": {},
   "outputs": [],
   "source": [
    "uts = stress.max()"
   ]
  },
  {
   "cell_type": "code",
   "execution_count": 54,
   "id": "5e1e26f1-d384-46ff-ba97-a98f581aa312",
   "metadata": {},
   "outputs": [
    {
     "data": {
      "text/plain": [
       "np.float64(452.2898094449047)"
      ]
     },
     "execution_count": 54,
     "metadata": {},
     "output_type": "execute_result"
    }
   ],
   "source": [
    "uts"
   ]
  },
  {
   "cell_type": "code",
   "execution_count": 55,
   "id": "46289a3d-2481-4134-b02c-b8bf394bf9cb",
   "metadata": {},
   "outputs": [],
   "source": [
    "elastic_low = 0.1 * uts\n",
    "elastic_up = 0.4 * uts"
   ]
  },
  {
   "cell_type": "code",
   "execution_count": 56,
   "id": "3db79d28-0634-4f09-b77c-7e38a2f7f9ae",
   "metadata": {},
   "outputs": [],
   "source": [
    "elastic_reg = (elastic_low <= stress) & (stress <= elastic_up)\n",
    "#strain_ela = strain.reset_index(drop=True)\n",
    "#stress_ela = stress.reset_index(drop=True)"
   ]
  },
  {
   "cell_type": "code",
   "execution_count": 57,
   "id": "f9b0b9f4-d6c2-498e-85e9-0a0e24db365b",
   "metadata": {},
   "outputs": [],
   "source": [
    "stress_ela_shifted = stress[elastic_reg]\n",
    "strain_ela_shifted = strain[elastic_reg] # Convert percentage to decimal"
   ]
  },
  {
   "cell_type": "code",
   "execution_count": 58,
   "id": "312e0bfe-fe3e-49cd-a811-d72e5bba9aa9",
   "metadata": {},
   "outputs": [
    {
     "name": "stdout",
     "output_type": "stream",
     "text": [
      "Young's Modulus is: 210324.02734543997 MPa\n",
      "Intercept: 133.50893224836625 MPa\n"
     ]
    }
   ],
   "source": [
    "E, intercept = np.polyfit(strain_ela_shifted, stress_ela_shifted, 1)\n",
    "print(f\"Young's Modulus is: {E} MPa\",)\n",
    "E_GPa = E / 1000  # Convert MPa to GPa\n",
    "print(f\"Intercept: {intercept} MPa\")"
   ]
  },
  {
   "cell_type": "code",
   "execution_count": 59,
   "id": "9148155b-4502-42ae-ad37-72fd58a376ca",
   "metadata": {},
   "outputs": [],
   "source": [
    "offset_decimal = 0.002  # 0.2% in decimal\n",
    "offset_line = E * (strain - offset_decimal) + intercept"
   ]
  },
  {
   "cell_type": "code",
   "execution_count": 60,
   "id": "b0a41436-a35a-4620-854e-8814f75158b3",
   "metadata": {},
   "outputs": [
    {
     "data": {
      "text/plain": [
       "0       -420.673847\n",
       "1       -420.631783\n",
       "2       -420.589718\n",
       "3       -420.526621\n",
       "4       -420.400426\n",
       "           ...     \n",
       "1950    7924.857363\n",
       "1951    7928.853520\n",
       "1952    7930.620242\n",
       "1953    7931.503603\n",
       "1954    7931.587732\n",
       "Name: Extensometer elongation (%), Length: 1955, dtype: float64"
      ]
     },
     "execution_count": 60,
     "metadata": {},
     "output_type": "execute_result"
    }
   ],
   "source": [
    "offset_line"
   ]
  },
  {
   "cell_type": "code",
   "execution_count": 61,
   "id": "276ce4d5-9009-4be6-bedb-0674e0fcb04e",
   "metadata": {},
   "outputs": [
    {
     "data": {
      "text/plain": [
       "55      45.592543\n",
       "56      46.428832\n",
       "57      47.262800\n",
       "58      48.125186\n",
       "59      48.995195\n",
       "          ...    \n",
       "206    177.076802\n",
       "207    177.968268\n",
       "208    178.865203\n",
       "209    179.763297\n",
       "210    180.658244\n",
       "Name: Load (kN), Length: 156, dtype: float64"
      ]
     },
     "execution_count": 61,
     "metadata": {},
     "output_type": "execute_result"
    }
   ],
   "source": [
    "stress_ela_shifted"
   ]
  },
  {
   "cell_type": "code",
   "execution_count": 62,
   "id": "da5f630d-b451-44c4-b263-afaa94a999b0",
   "metadata": {},
   "outputs": [],
   "source": [
    "diff = stress - offset_line"
   ]
  },
  {
   "cell_type": "code",
   "execution_count": 63,
   "id": "f9df69f5-ca55-4d8d-86c3-15d45f6b93a7",
   "metadata": {},
   "outputs": [
    {
     "data": {
      "text/plain": [
       "0        422.906987\n",
       "1        422.877184\n",
       "2        422.855252\n",
       "3        422.849653\n",
       "4        422.903243\n",
       "           ...     \n",
       "1950   -7472.623063\n",
       "1951   -7476.579038\n",
       "1952   -7478.333912\n",
       "1953   -7479.214622\n",
       "1954   -7479.297923\n",
       "Length: 1955, dtype: float64"
      ]
     },
     "execution_count": 63,
     "metadata": {},
     "output_type": "execute_result"
    }
   ],
   "source": [
    "diff"
   ]
  },
  {
   "cell_type": "code",
   "execution_count": 64,
   "id": "a9d2e8ba-339d-4227-81de-06ec49079cbf",
   "metadata": {},
   "outputs": [],
   "source": [
    "cross_index = np.where(diff <= 0)[0][0]"
   ]
  },
  {
   "cell_type": "code",
   "execution_count": 65,
   "id": "209eb147-e46b-4030-954e-10259f8d9d14",
   "metadata": {},
   "outputs": [
    {
     "data": {
      "text/plain": [
       "np.int64(501)"
      ]
     },
     "execution_count": 65,
     "metadata": {},
     "output_type": "execute_result"
    }
   ],
   "source": [
    "cross_index"
   ]
  },
  {
   "cell_type": "code",
   "execution_count": 66,
   "id": "68719968-2254-451c-8048-1b9f702d89b1",
   "metadata": {},
   "outputs": [
    {
     "data": {
      "text/plain": [
       "np.float64(396.0833471416736)"
      ]
     },
     "execution_count": 66,
     "metadata": {},
     "output_type": "execute_result"
    }
   ],
   "source": [
    "yield_strength = stress[cross_index]\n",
    "yield_strength"
   ]
  },
  {
   "cell_type": "code",
   "execution_count": 67,
   "id": "65de3283-72d5-47a6-9946-f66701248f67",
   "metadata": {},
   "outputs": [
    {
     "data": {
      "text/plain": [
       "(0.0, 500.0)"
      ]
     },
     "execution_count": 67,
     "metadata": {},
     "output_type": "execute_result"
    },
    {
     "data": {
      "image/png": "[encoded data removed]",
      "text/plain": [
       "<Figure size 1000x600 with 1 Axes>"
      ]
     },
     "metadata": {},
     "output_type": "display_data"
    }
   ],
   "source": [
    "plt.figure(figsize=(10, 6))\n",
    "plt.plot(strain, stress, label='Stress-Strain Curve', color='blue')\n",
    "plt.plot(strain, offset_line, label='0.2% Offset Strain Line', color='yellow',linestyle = '--')\n",
    "plt.axhline(y=yield_strength, label=f'Yield Strength = {yield_strength:.2f} MPa', color='green', linestyle = '--')\n",
    "plt.axhline(y=uts, color='red', linestyle = '--', label=f'UTS = {uts:.2f} MPa')\n",
    "\n",
    "plt.xlabel('Strain (%)')\n",
    "plt.ylabel('Stress (MPa)')\n",
    "plt.title('Stress-Strain Curve with Mechanical Properties')\n",
    "plt.legend()\n",
    "plt.grid(True)\n",
    "plt.ylim(0, 500)\n"
   ]
  },
  {
   "cell_type": "code",
   "execution_count": 68,
   "id": "2b256f47-f16d-42d2-a659-771189a04c86",
   "metadata": {},
   "outputs": [
    {
     "name": "stdout",
     "output_type": "stream",
     "text": [
      "Young's Modulus (E): 210.32 GPa\n",
      "Ultimate Tensile Strength (UTS): 452.29 MPa\n",
      "Yield Strength: 396.08 MPa\n"
     ]
    }
   ],
   "source": [
    "# Print results\n",
    "print(f\"Young's Modulus (E): {E_GPa:.2f} GPa\")\n",
    "print(f\"Ultimate Tensile Strength (UTS): {uts:.2f} MPa\")\n",
    "print(f\"Yield Strength: {yield_strength:.2f} MPa\")\n",
    "#print(f\"Toughness: {toughness_mj_per_m3:.2f} MJ/m³\")"
   ]
  },
  {
   "cell_type": "code",
   "execution_count": null,
   "id": "6b96fcaf-e349-47b7-802f-524a0fe58156",
   "metadata": {},
   "outputs": [],
   "source": []
  },
  {
   "cell_type": "code",
   "execution_count": null,
   "id": "cbcb5bb6-9271-4124-9735-fb701cd085af",
   "metadata": {},
   "outputs": [],
   "source": []
  }
 ],
 "metadata": {
  "kernelspec": {
   "display_name": "pfse",
   "language": "python",
   "name": "pfse"
  },
  "language_info": {
   "codemirror_mode": {
    "name": "ipython",
    "version": 3
   },
   "file_extension": ".py",
   "mimetype": "text/x-python",
   "name": "python",
   "nbconvert_exporter": "python",
   "pygments_lexer": "ipython3",
   "version": "3.13.5"
  }
 },
 "nbformat": 4,
 "nbformat_minor": 5
}
