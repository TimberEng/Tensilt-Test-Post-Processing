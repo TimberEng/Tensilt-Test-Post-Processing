{
 "cells": [
  {
   "cell_type": "code",
   "execution_count": 1,
   "id": "186d3421-666d-4fea-88ca-692492ebb0e1",
   "metadata": {},
   "outputs": [],
   "source": [
    "import struct_post.postanalysis as pa"
   ]
  },
  {
   "cell_type": "code",
   "execution_count": 2,
   "id": "deb18902-35bb-4065-97eb-b270fb9e5995",
   "metadata": {},
   "outputs": [
    {
     "data": {
      "text/plain": [
       "{'sample_file_name': 'S1.csv', 'thickness': 10, 'width': 2.5}"
      ]
     },
     "execution_count": 2,
     "metadata": {},
     "output_type": "execute_result"
    }
   ],
   "source": [
    "pa.sample_data_read('Sample Data.xlsx')"
   ]
  },
  {
   "cell_type": "code",
   "execution_count": null,
   "id": "d884302d-788a-420f-8f90-be91abfa5f1b",
   "metadata": {},
   "outputs": [],
   "source": []
  }
 ],
 "metadata": {
  "kernelspec": {
   "display_name": "pfse",
   "language": "python",
   "name": "pfse"
  },
  "language_info": {
   "codemirror_mode": {
    "name": "ipython",
    "version": 3
   },
   "file_extension": ".py",
   "mimetype": "text/x-python",
   "name": "python",
   "nbconvert_exporter": "python",
   "pygments_lexer": "ipython3",
   "version": "3.13.5"
  }
 },
 "nbformat": 4,
 "nbformat_minor": 5
}
