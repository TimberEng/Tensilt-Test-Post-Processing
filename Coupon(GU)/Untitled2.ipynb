{
 "cells": [
  {
   "cell_type": "code",
   "execution_count": 2,
   "id": "9ca7f3c9-9727-44d9-ae35-c04c70b2bc81",
   "metadata": {},
   "outputs": [],
   "source": [
    "import struct_post.postanalysis as pa"
   ]
  },
  {
   "cell_type": "code",
   "execution_count": 3,
   "id": "604998af-ce0d-4b10-a31c-82c509cf32ed",
   "metadata": {},
   "outputs": [],
   "source": [
    "Coupon_geo = pa.sample_geodata_read('Sample Data.xlsx')"
   ]
  },
  {
   "cell_type": "code",
   "execution_count": 4,
   "id": "fbaa9559-f94d-4651-be0f-de636299f9ed",
   "metadata": {},
   "outputs": [
    {
     "name": "stdout",
     "output_type": "stream",
     "text": [
      "Sample: S1\n",
      "Young's Modulus (E): 219532.93 MPa\n",
      "Ultimate Tensile Strength (UTS): 401.99 MPa\n",
      "Yield Strength: 281.19 MPa\n",
      "----------------------------------------\n",
      "Sample: S2\n",
      "Young's Modulus (E): 183319.36 MPa\n",
      "Ultimate Tensile Strength (UTS): 314.69 MPa\n",
      "Yield Strength: 212.02 MPa\n",
      "----------------------------------------\n",
      "Sample: S3\n",
      "Young's Modulus (E): 116481.44 MPa\n",
      "Ultimate Tensile Strength (UTS): 507.19 MPa\n",
      "Yield Strength: 460.07 MPa\n",
      "----------------------------------------\n",
      "Sample: S4\n",
      "Young's Modulus (E): 174232.48 MPa\n",
      "Ultimate Tensile Strength (UTS): 319.04 MPa\n",
      "Yield Strength: 223.17 MPa\n",
      "----------------------------------------\n",
      "Sample: S5\n",
      "Young's Modulus (E): 160867.60 MPa\n",
      "Ultimate Tensile Strength (UTS): 279.24 MPa\n",
      "Yield Strength: 229.89 MPa\n",
      "----------------------------------------\n"
     ]
    }
   ],
   "source": [
    "Coupon_results = pa.batch_analysis(Coupon_geo,0,0)"
   ]
  },
  {
   "cell_type": "code",
   "execution_count": 5,
   "id": "14035828-6dde-412b-a4da-0d157c283b22",
   "metadata": {},
   "outputs": [
    {
     "name": "stdout",
     "output_type": "stream",
     "text": [
      "The coupon test data analysis is complete.\n"
     ]
    }
   ],
   "source": [
    "pa.results_save('Sample Data.xlsx',Coupon_results)"
   ]
  },
  {
   "cell_type": "code",
   "execution_count": null,
   "id": "ca9c08f0-dfd9-451b-afff-9cc4877b96c7",
   "metadata": {},
   "outputs": [],
   "source": []
  }
 ],
 "metadata": {
  "kernelspec": {
   "display_name": "pfse",
   "language": "python",
   "name": "pfse"
  },
  "language_info": {
   "codemirror_mode": {
    "name": "ipython",
    "version": 3
   },
   "file_extension": ".py",
   "mimetype": "text/x-python",
   "name": "python",
   "nbconvert_exporter": "python",
   "pygments_lexer": "ipython3",
   "version": "3.13.5"
  }
 },
 "nbformat": 4,
 "nbformat_minor": 5
}
